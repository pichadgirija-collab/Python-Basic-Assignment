{
  "nbformat": 4,
  "nbformat_minor": 0,
  "metadata": {
    "colab": {
      "provenance": []
    },
    "kernelspec": {
      "name": "python3",
      "display_name": "Python 3"
    },
    "language_info": {
      "name": "python"
    }
  },
  "cells": [
    {
      "cell_type": "markdown",
      "source": [
        "Name: Girija Pichad.\n",
        "Email: pichadgirija@gmail.com\n",
        "Assignment Name: Python Basics Assignment\n",
        "Deive Link: N\\A\n",
        "Github Link:"
      ],
      "metadata": {
        "id": "Zg0Pai3woik2"
      }
    },
    {
      "cell_type": "markdown",
      "source": [
        "# Theory Questions"
      ],
      "metadata": {
        "id": "9mkmAC8hreJy"
      }
    },
    {
      "cell_type": "markdown",
      "source": [
        "1. What is Python, and why is it popular?\n",
        "   * Python is a high level, interpreted programming language known for its simplicity and versatility.Python has become popular among web developers,data scientists and data analysts for various applications including web development,data analysis and artificial intelligence.\n",
        "\n",
        "2. What is an interpreter in Python?\n",
        "   *  A Python interpreter is a program that converts Python code into machine-readable instructions and runs them,enabling the user to execute Python scripts and view result instantly.Without an interpreter, your Python code is just words on a screen.\n",
        "\n",
        "3. What are pre-defined keywords in Python?\n",
        "   * In Python, pre-defined words are called keywords.These are reserved words that have specific meanings or purposes in the language. They cannot be used as identifoiers(like variable names, function names or class names.) Keywords are case sensitive and are essential for writing Python programmes.Here are few examples of keywords in Python: False,None,True,and,for,is,else,if,elif etc.\n",
        "\n",
        "4. Can keywords be used as variable names?\n",
        "   * Keywords are predefined,reserved words used in Python programming that have special meaning to the complier. We cannot use keyword as a variable name, function name,or any other identifier. They are used to define the syntax and structure of the Python language.\n",
        "\n",
        "5. What is mutability in Python?\n",
        "   * In Python, mutability refers to whether an object can be modified after it is created. Objects in Python are classified as either mutable or immutable based on this characteristic.Lists,sets and dictionaries are mutable objects in Python.\n",
        "\n",
        "6. Why are lists mutable,but tuples are immutable?\n",
        "   * In Python,lists are mutable means you can modify their content(add,remove or change elements) after they are created.Tuples,on the other hand,are immutable,which means their elements cannot be changed,added or removed once the tuple is created. This is because lists are designed for dynamic collections of items that may change over time,offering flexibility and various menthods for modification where as, tuples are intended for fixed collections of data that shouldn't change,emphasizing data integrity and preventing unintended alterations.\n",
        "  \n",
        "7. What is the difference between \"==\" and \"is\" operator in Python?\n",
        "   * In Python \"==\" and \"is\" both are comparison operators,but they serve different purposes.\n",
        "   Equality operator i.e.== compares the values of two objects.It checks if the contents or state of the objects are equivalent.If the values are the same, == returns True;otherwise,it returns False.\n",
        "   Identity operator i.e. is compares the identity of the two objects.It checks if two variables refer to the exact same object in memory.If they point to the same memory location,is returns True;Otherwise,it returns False.\n",
        "\n",
        "8. What are logical operators in Python?\n",
        "   * Logical operators are used to combine conditional statements, allowing you to perform operations based on multiple conditions.In Python, logical operators carry out logical operations and return Boolean values i.e.True/False based on the result.\n",
        "   There are 3 types of logical operators in Python:\n",
        "   And Operator\n",
        "   Or  Operator\n",
        "   Not Operator\n",
        "\n",
        "9. What is type casting in Python?\n",
        "   * Type casting in Python,also known as type conversion,is the process of converting a value from one data type to another. This is a fundamental concept in programming,allowing for flexibility in data manipulation and ensuring compatibility between different data types while performing  operations.\n",
        "\n",
        "10. What is the difference between implicit and explicit type casting?\n",
        "    * There are 2 ways of typecasting in Python:\n",
        "   Implicit Type Conversion: In this method,Python converts datatype into another datatype automatically.Users don't have to involve in this process.\n",
        "   Explicit Type Conversion: In this method,Python needs user involvement to convert the variable data type into the required data type.\n",
        "\n",
        "11. What is the purpose of conditional statements in Python?\n",
        "    * Conditional statements in Python are essential for controlling the flow of a program to make decisions and execute specific blocks of code based on certain conditions.Conditional statements enable the program to decide which code to execute depending on whether a condition is true or false.These statements help control the flow of a program,making it behave differently in different situations.\n",
        "\n",
        "12. How does the elif statement work?\n",
        "    * In Python,the elif statement is used for decision making,allowing you to check multiple conditions sequentially.It stands for \"else if\" and is used when the initial if condition is false,but you want to test additional conditions before falling back to the else block.\n",
        "\n",
        "13. What is the difference between for and while loops?\n",
        "    * In Python,for and while loops are used for iteration,but they differ in their use cases and behaviour.for loop iterates over a sequence directly and while loop repeats based on a condition. for loop is implicit by nature where as while loop is explicit by nature.for loop ends when sequence is exhausted but while loop ends when condition becomes false.\n",
        "\n",
        "14. Describe a scenario where a while loop is more suitable than for loop.\n",
        "    * A while loop is particular;y useful in scenarios where the number of iterations is not predetermined and it depends on a condition being met during runtime.Unlike a for loop,which is ideal for itering over a fixed range or sequence,a while loop provides flexibility for dynamic conditions.One common use case is waiting for user input or specific event.For instance,you might want to keep prompting user until they enter valid response. Here,the loop continues until the user types appropriate response.A for loop would not be appropriarte because number of iterations depends on the user's actions.\n",
        "\n",
        "\n",
        "\n",
        "\n"
      ],
      "metadata": {
        "id": "VTSo-n1Erln7"
      }
    },
    {
      "cell_type": "markdown",
      "source": [
        "# Practical Questions"
      ],
      "metadata": {
        "id": "5mBg_zud_ufh"
      }
    },
    {
      "cell_type": "code",
      "source": [
        "#1.Write a python program to print \"Hello,World!\"\n",
        "print(\"Hello World!\")"
      ],
      "metadata": {
        "colab": {
          "base_uri": "https://localhost:8080/"
        },
        "id": "Sdd32hdc_0aM",
        "outputId": "41aa94bf-d98b-4110-d2d7-70d13b75f984"
      },
      "execution_count": null,
      "outputs": [
        {
          "output_type": "stream",
          "name": "stdout",
          "text": [
            "Hello World!\n"
          ]
        }
      ]
    },
    {
      "cell_type": "code",
      "source": [
        "#2.Write a program that displays your name and age.\n",
        "print(\"Name:\", \"Girija\")\n",
        "print(\"Age:\",25)"
      ],
      "metadata": {
        "colab": {
          "base_uri": "https://localhost:8080/"
        },
        "id": "AxZD2VGEAQk9",
        "outputId": "701b9b03-f895-49f0-d532-6719718b5fee"
      },
      "execution_count": null,
      "outputs": [
        {
          "output_type": "stream",
          "name": "stdout",
          "text": [
            "Name: Girija\n",
            "Age: 25\n"
          ]
        }
      ]
    },
    {
      "cell_type": "code",
      "source": [
        "#3.Write code to print all the pre-defined keywords in python using the keyword library.\n",
        "import keyword\n",
        "print(keyword.kwlist)"
      ],
      "metadata": {
        "colab": {
          "base_uri": "https://localhost:8080/"
        },
        "id": "NKp0GbonFAWZ",
        "outputId": "eec053cf-c16b-4aca-8fe9-382a0842fb77"
      },
      "execution_count": null,
      "outputs": [
        {
          "output_type": "stream",
          "name": "stdout",
          "text": [
            "['False', 'None', 'True', 'and', 'as', 'assert', 'async', 'await', 'break', 'class', 'continue', 'def', 'del', 'elif', 'else', 'except', 'finally', 'for', 'from', 'global', 'if', 'import', 'in', 'is', 'lambda', 'nonlocal', 'not', 'or', 'pass', 'raise', 'return', 'try', 'while', 'with', 'yield']\n"
          ]
        }
      ]
    },
    {
      "cell_type": "code",
      "source": [
        "#4. Write a program that checks if a given word is a python keyword.\n",
        "import keyword\n",
        "word= input()\n",
        "if keyword.iskeyword(word):\n",
        "   print(f\"{word} is a python keyword\")\n",
        "else:\n",
        "   print(f\"{word} is not a python keyword\")"
      ],
      "metadata": {
        "colab": {
          "base_uri": "https://localhost:8080/"
        },
        "id": "GB3bDhhn9SHt",
        "outputId": "98a7371a-0559-4f7d-881b-4ee08e1525d0"
      },
      "execution_count": null,
      "outputs": [
        {
          "output_type": "stream",
          "name": "stdout",
          "text": [
            "True\n",
            "True is a python keyword\n"
          ]
        }
      ]
    },
    {
      "cell_type": "code",
      "source": [
        "#5. Create a list and tuple in python, and demonstrate how attempting to change an element works differently for each.\n",
        "my_list=[\"a\",\"b\",\"c\",10,25]\n",
        "print(f\"original list:{my_list}\")\n",
        "my_list[2]=30\n",
        "print(f\"modifird list:{my_list}\")\n",
        "\n",
        "my_tuple=(\"a\",\"b\",\"c\",10,25)\n",
        "my_tuple[2]=30\n",
        "print(f\"modified tuple:{my_tuple}\")"
      ],
      "metadata": {
        "colab": {
          "base_uri": "https://localhost:8080/",
          "height": 237
        },
        "id": "Pft4DZci_Y9N",
        "outputId": "21a2cbd7-0f43-4dc9-a30a-eb89cae1eeb6"
      },
      "execution_count": null,
      "outputs": [
        {
          "output_type": "stream",
          "name": "stdout",
          "text": [
            "original list:['a', 'b', 'c', 10, 25]\n",
            "modifird list:['a', 'b', 30, 10, 25]\n"
          ]
        },
        {
          "output_type": "error",
          "ename": "TypeError",
          "evalue": "'tuple' object does not support item assignment",
          "traceback": [
            "\u001b[0;31m---------------------------------------------------------------------------\u001b[0m",
            "\u001b[0;31mTypeError\u001b[0m                                 Traceback (most recent call last)",
            "\u001b[0;32m/tmp/ipython-input-1022849231.py\u001b[0m in \u001b[0;36m<cell line: 0>\u001b[0;34m()\u001b[0m\n\u001b[1;32m      6\u001b[0m \u001b[0;34m\u001b[0m\u001b[0m\n\u001b[1;32m      7\u001b[0m \u001b[0mmy_tuple\u001b[0m\u001b[0;34m=\u001b[0m\u001b[0;34m(\u001b[0m\u001b[0;34m\"a\"\u001b[0m\u001b[0;34m,\u001b[0m\u001b[0;34m\"b\"\u001b[0m\u001b[0;34m,\u001b[0m\u001b[0;34m\"c\"\u001b[0m\u001b[0;34m,\u001b[0m\u001b[0;36m10\u001b[0m\u001b[0;34m,\u001b[0m\u001b[0;36m25\u001b[0m\u001b[0;34m)\u001b[0m\u001b[0;34m\u001b[0m\u001b[0;34m\u001b[0m\u001b[0m\n\u001b[0;32m----> 8\u001b[0;31m \u001b[0mmy_tuple\u001b[0m\u001b[0;34m[\u001b[0m\u001b[0;36m2\u001b[0m\u001b[0;34m]\u001b[0m\u001b[0;34m=\u001b[0m\u001b[0;36m30\u001b[0m\u001b[0;34m\u001b[0m\u001b[0;34m\u001b[0m\u001b[0m\n\u001b[0m\u001b[1;32m      9\u001b[0m \u001b[0mprint\u001b[0m\u001b[0;34m(\u001b[0m\u001b[0;34mf\"modified tuple:{my_tuple}\"\u001b[0m\u001b[0;34m)\u001b[0m\u001b[0;34m\u001b[0m\u001b[0;34m\u001b[0m\u001b[0m\n",
            "\u001b[0;31mTypeError\u001b[0m: 'tuple' object does not support item assignment"
          ]
        }
      ]
    },
    {
      "cell_type": "code",
      "source": [
        "#6. Write a function to demonstrate the behaviour of mutable and immutable arguments.\n",
        "def demonstrate_mutable_immutable(mutable_list, immutable_int):\n",
        "  mutable_list.append(100)\n",
        "  print(\"Inside function(after modifying mutable):\", mutable_list)\n",
        "  immutable_int+=100\n",
        "  print(\"Inside function(after modifying immutable):\", immutable_int)\n",
        "\n",
        "my_list=[1,2,3]\n",
        "my_int=5\n",
        "print(\"Before function call (mutable):\", my_list)\n",
        "print(\"Before function call (immutable):\", my_int)\n",
        "demonstrate_mutable_immutable(my_list, my_int)\n",
        "print(\"After function call (mutable):\", my_list)\n",
        "print(\"After function call (immutable):\", my_int)"
      ],
      "metadata": {
        "id": "h7aDneFRBuFx",
        "colab": {
          "base_uri": "https://localhost:8080/"
        },
        "outputId": "ed8c0c7c-aa7b-464d-9a3a-af6028751051"
      },
      "execution_count": null,
      "outputs": [
        {
          "output_type": "stream",
          "name": "stdout",
          "text": [
            "Before function call (mutable): [1, 2, 3]\n",
            "Before function call (immutable): 5\n",
            "Inside function(after modifying mutable): [1, 2, 3, 100]\n",
            "Inside function(after modifying immutable): 105\n",
            "After function call (mutable): [1, 2, 3, 100]\n",
            "After function call (immutable): 5\n"
          ]
        }
      ]
    },
    {
      "cell_type": "code",
      "source": [
        "#7. Write a program that performs basic arithmetic operations on two user-input numbers.\n",
        "num1=int(input(\"Enter the first number\"))\n",
        "num2=int(input(\"Enter the second number\"))\n",
        "\n",
        "addition=num1+num2\n",
        "print(f\"The addition of {num1} and {num2} is {addition}\")\n",
        "subtraction=num1-num2\n",
        "print(f\"The subtraction of {num1} and {num2} is {subtraction}\")\n",
        "multiplication=num1*num2\n",
        "print(f\"The multiplication of {num1} and {num2} is {multiplication}\")\n",
        "division=num1/num2\n",
        "print(f\"The division of {num1} and {num2} is {division}\")\n",
        "floor_division= num1 // num2\n",
        "print(f\"The floor division of {num1} and {num2} is {floor_division}\")\n",
        "modulus=num1%num2\n",
        "print(f\"The modulus of {num1} and {num2} is {modulus} \")\n",
        "exponentiation=num1**num2\n",
        "print(f\"The exponentiation of {num1} and {num2} is {exponentiation}\")"
      ],
      "metadata": {
        "colab": {
          "base_uri": "https://localhost:8080/"
        },
        "id": "0cwHxzB9CNsk",
        "outputId": "20b0cbbd-6695-4dc2-b2fd-f24261a5c6d2"
      },
      "execution_count": null,
      "outputs": [
        {
          "output_type": "stream",
          "name": "stdout",
          "text": [
            "Enter the first number20\n",
            "Enter the second number2\n",
            "The addition of 20 and 2 is 22\n",
            "The subtraction of 20 and 2 is 18\n",
            "The multiplication of 20 and 2 is 40\n",
            "The division of 20 and 2 is 10.0\n",
            "The floor division of 20 and 2 is 10\n",
            "The modulus of 20 and 2 is 0 \n",
            "The exponentiation of 20 and 2 is 400\n"
          ]
        }
      ]
    },
    {
      "cell_type": "code",
      "source": [
        "#8. Write a program to demonstrate the use of logical operators.\n",
        "a=True\n",
        "b=False\n",
        "print(\"Logical AND:\")\n",
        "print(f\"a and b:{a and b}\")\n",
        "print(\"Logical OR:\")\n",
        "print(f\"a or b:{a or b}\")\n",
        "print(\"Logical NOT:\")\n",
        "print(f\"not a:{not a}\")\n",
        "print(f\"not b:{not b}\")"
      ],
      "metadata": {
        "id": "VLlSimM_WG_T",
        "colab": {
          "base_uri": "https://localhost:8080/"
        },
        "outputId": "6d1e3f32-79d3-4ef2-e5ab-25c74c08e354"
      },
      "execution_count": null,
      "outputs": [
        {
          "output_type": "stream",
          "name": "stdout",
          "text": [
            "Logical AND:\n",
            "a and b:False\n",
            "Logical OR:\n",
            "a or b:True\n",
            "Logical NOT:\n",
            "not a:False\n",
            "not b:True\n"
          ]
        }
      ]
    },
    {
      "cell_type": "code",
      "source": [
        "#9. Write a python program to convert user input from string to integer, float,and boolean types.\n",
        "user_input_str=input()\n",
        "float_value=float(user_input_str)\n",
        "print(f\"The float value is {float_value}\")\n",
        "integer_value=int(float_value)\n",
        "print(f\"The integer value is {integer_value}\")\n",
        "boolean_value=bool(integer_value)\n",
        "print(f\"The boolean value is {boolean_value}\")"
      ],
      "metadata": {
        "colab": {
          "base_uri": "https://localhost:8080/"
        },
        "id": "qn7V_gBLXlYo",
        "outputId": "5a18eb35-b7d8-482d-a845-902e665768da"
      },
      "execution_count": null,
      "outputs": [
        {
          "output_type": "stream",
          "name": "stdout",
          "text": [
            "15.3\n",
            "The float value is 15.3\n",
            "The integer value is 15\n",
            "The boolean value is True\n"
          ]
        }
      ]
    },
    {
      "cell_type": "code",
      "source": [
        "#10. Write code to demonstrate type casting with list elements.\n",
        "original_list=[\"1\",\"2\",\"3\",\"4.5\",\"5\",\"6\"]\n",
        "int_list=[int(x) for x in original_list if x.isdigit()]\n",
        "float_list=[float(x) for x in original_list if \".\" in x]\n",
        "print(f\"Integer list:{int_list}\")\n",
        "print(f\"Float list:{float_list}\")"
      ],
      "metadata": {
        "id": "bwkeLN5ZayfQ",
        "colab": {
          "base_uri": "https://localhost:8080/"
        },
        "outputId": "3c9ebb14-4ca4-45e1-f4c1-75def0373cd0"
      },
      "execution_count": null,
      "outputs": [
        {
          "output_type": "stream",
          "name": "stdout",
          "text": [
            "Integer list:[1, 2, 3, 5, 6]\n",
            "Float list:[4.5]\n"
          ]
        }
      ]
    },
    {
      "cell_type": "code",
      "source": [
        "#11. Write a program that checks if a number is positive,negative or zero.\n",
        "num=int(input(\"Enter a number: \"))\n",
        "if num > 0:\n",
        "  print(\"positive\")\n",
        "elif num < 0:\n",
        "  print(\"negative\")\n",
        "else:\n",
        "  print(\"zero\")"
      ],
      "metadata": {
        "colab": {
          "base_uri": "https://localhost:8080/"
        },
        "id": "dMUipb6sUFkL",
        "outputId": "dfcb4056-a576-4d6f-b29d-7b41f5170f46"
      },
      "execution_count": null,
      "outputs": [
        {
          "output_type": "stream",
          "name": "stdout",
          "text": [
            "Enter a number: -6\n",
            "negative\n"
          ]
        }
      ]
    },
    {
      "cell_type": "code",
      "source": [
        "#12. Write a for loop to print numbers from 1 to 10.\n",
        "for i in range(1,11):\n",
        "  print(i)"
      ],
      "metadata": {
        "colab": {
          "base_uri": "https://localhost:8080/"
        },
        "id": "yYeTszOuXI-l",
        "outputId": "70dcdc7f-2e46-411c-e393-71267f1c507b"
      },
      "execution_count": null,
      "outputs": [
        {
          "output_type": "stream",
          "name": "stdout",
          "text": [
            "1\n",
            "2\n",
            "3\n",
            "4\n",
            "5\n",
            "6\n",
            "7\n",
            "8\n",
            "9\n",
            "10\n"
          ]
        }
      ]
    },
    {
      "cell_type": "code",
      "source": [
        "#13. Write a python program to find sum of all even numbers between 1 and 50.\n",
        "total_sum=0\n",
        "for number in range(1,51):\n",
        "  if number % 2 == 0:\n",
        "    total_sum+=number\n",
        "print(f\"The sum of even numbers from 1 to 50 is {total_sum}\")"
      ],
      "metadata": {
        "colab": {
          "base_uri": "https://localhost:8080/"
        },
        "id": "EqJFSwf1Xq2s",
        "outputId": "62c57302-ece3-49c1-a634-88c653a6a5bc"
      },
      "execution_count": null,
      "outputs": [
        {
          "output_type": "stream",
          "name": "stdout",
          "text": [
            "The sum of even numbers from 1 to 50 is 650\n"
          ]
        }
      ]
    },
    {
      "cell_type": "code",
      "source": [
        "#14.Write a program to reverse a string using a while loop.\n",
        "def reversed_str_while_loop(input_str):\n",
        "  \"\"\"Reverses a string using a while loop.\"\"\"\n",
        "  reversed_string = \"\"\n",
        "  index = len(input_str) - 1\n",
        "  while index >= 0:\n",
        "    reversed_string += input_str[index]\n",
        "    index -= 1\n",
        "  return reversed_string\n",
        "\n",
        "original_str=input(\"Enter a string: \")\n",
        "reversed_str=reversed_str_while_loop(original_str)\n",
        "print(f\"The reversed string is {reversed_str}\")"
      ],
      "metadata": {
        "colab": {
          "base_uri": "https://localhost:8080/"
        },
        "id": "37tlrdTnZflm",
        "outputId": "e376b6d9-0503-43ad-96f9-ce41b36def34"
      },
      "execution_count": null,
      "outputs": [
        {
          "output_type": "stream",
          "name": "stdout",
          "text": [
            "Enter a string: \"hello world\"\n",
            "The reversed string is \"dlrow olleh\"\n"
          ]
        }
      ]
    },
    {
      "cell_type": "code",
      "source": [
        "#15.Write a python program to calculate the factorial of a number provided by the user using a while loop.\n",
        "num=int(input(\"Enter a non-negative integer:\"))\n",
        "factorial=1\n",
        "i=1\n",
        "if num<0:\n",
        "  print(\"Factorial is not defined for negative numbers\")\n",
        "else:\n",
        "  while i<=num:\n",
        "    factorial*=i\n",
        "    i+=1\n",
        "    print(f\"The factorial of {num} is {factorial}\")\n",
        "\n"
      ],
      "metadata": {
        "colab": {
          "base_uri": "https://localhost:8080/"
        },
        "id": "cQuXbBLe1ZZI",
        "outputId": "948257f0-e2a2-46a4-e2c2-bfe8edd4acbc"
      },
      "execution_count": null,
      "outputs": [
        {
          "output_type": "stream",
          "name": "stdout",
          "text": [
            "Enter a non-negative integer:3\n",
            "The factorial of 3 is 1\n",
            "The factorial of 3 is 2\n",
            "The factorial of 3 is 6\n"
          ]
        }
      ]
    }
  ]
}